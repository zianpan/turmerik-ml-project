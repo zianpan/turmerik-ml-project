{
 "cells": [
  {
   "cell_type": "code",
   "execution_count": 103,
   "metadata": {},
   "outputs": [],
   "source": [
    "# Test for api\n",
    "from openai import OpenAI\n",
    "from os import environ\n",
    "import os\n",
    "\n",
    "# if doesn't work, try to set the api key here\n",
    "client = OpenAI(api_key=os.getenv(\"OPENAI_API_KEY\"))\n",
    "\n",
    "\n",
    "# client = OpenAI()\n",
    "completion = client.chat.completions.create(\n",
    "    model=\"gpt-4o-mini\",\n",
    "    messages=[\n",
    "        {\"role\": \"user\", \"content\": \"write a haiku about ai\"}\n",
    "    ]\n",
    ")\n"
   ]
  },
  {
   "cell_type": "markdown",
   "metadata": {},
   "source": []
  },
  {
   "cell_type": "code",
   "execution_count": 13,
   "metadata": {},
   "outputs": [
    {
     "name": "stdout",
     "output_type": "stream",
     "text": [
      "ChatCompletionMessage(content='Silent circuits hum,  \\nLearning in the shadows deep,  \\nWisdom born from code.  ', refusal=None, role='assistant', audio=None, function_call=None, tool_calls=None)\n"
     ]
    }
   ],
   "source": [
    "print(completion.choices[0].message)"
   ]
  },
  {
   "cell_type": "markdown",
   "metadata": {},
   "source": [
    "# Personalized Recommendation"
   ]
  },
  {
   "cell_type": "code",
   "execution_count": 24,
   "metadata": {},
   "outputs": [],
   "source": [
    "import pandas as pd\n",
    "from tqdm import tqdm"
   ]
  },
  {
   "cell_type": "code",
   "execution_count": 75,
   "metadata": {},
   "outputs": [],
   "source": [
    "df = pd.read_csv(\"data/raw_data_sentiment_analysis.csv\")"
   ]
  },
  {
   "cell_type": "markdown",
   "metadata": {},
   "source": [
    "# Level based recommendation"
   ]
  },
  {
   "cell_type": "code",
   "execution_count": 82,
   "metadata": {},
   "outputs": [
    {
     "data": {
      "text/html": [
       "<div>\n",
       "<style scoped>\n",
       "    .dataframe tbody tr th:only-of-type {\n",
       "        vertical-align: middle;\n",
       "    }\n",
       "\n",
       "    .dataframe tbody tr th {\n",
       "        vertical-align: top;\n",
       "    }\n",
       "\n",
       "    .dataframe thead th {\n",
       "        text-align: right;\n",
       "    }\n",
       "</style>\n",
       "<table border=\"1\" class=\"dataframe\">\n",
       "  <thead>\n",
       "    <tr style=\"text-align: right;\">\n",
       "      <th></th>\n",
       "      <th>subreddit</th>\n",
       "      <th>subtopic</th>\n",
       "      <th>user_name</th>\n",
       "      <th>content2</th>\n",
       "      <th>label</th>\n",
       "      <th>score</th>\n",
       "      <th>content</th>\n",
       "      <th>level</th>\n",
       "    </tr>\n",
       "  </thead>\n",
       "  <tbody>\n",
       "    <tr>\n",
       "      <th>2514</th>\n",
       "      <td>cancer</td>\n",
       "      <td>new treatment</td>\n",
       "      <td>fuzzylol7</td>\n",
       "      <td>These are my instructions\\n\\n[https://imgur.co...</td>\n",
       "      <td>NEG</td>\n",
       "      <td>0.865347</td>\n",
       "      <td>These are my instructions\\n\\n[https://imgur.co...</td>\n",
       "      <td>strongly negative</td>\n",
       "    </tr>\n",
       "    <tr>\n",
       "      <th>1362</th>\n",
       "      <td>science</td>\n",
       "      <td>research study</td>\n",
       "      <td>Deleted</td>\n",
       "      <td>[removed]</td>\n",
       "      <td>NEU</td>\n",
       "      <td>0.957009</td>\n",
       "      <td>[removed]</td>\n",
       "      <td>neutral</td>\n",
       "    </tr>\n",
       "  </tbody>\n",
       "</table>\n",
       "</div>"
      ],
      "text/plain": [
       "     subreddit        subtopic  user_name  \\\n",
       "2514    cancer   new treatment  fuzzylol7   \n",
       "1362   science  research study    Deleted   \n",
       "\n",
       "                                               content2 label     score  \\\n",
       "2514  These are my instructions\\n\\n[https://imgur.co...   NEG  0.865347   \n",
       "1362                                          [removed]   NEU  0.957009   \n",
       "\n",
       "                                                content              level  \n",
       "2514  These are my instructions\\n\\n[https://imgur.co...  strongly negative  \n",
       "1362                                          [removed]            neutral  "
      ]
     },
     "execution_count": 82,
     "metadata": {},
     "output_type": "execute_result"
    }
   ],
   "source": [
    "df_example = df.sample(30)\n",
    "df_example.head(2)"
   ]
  },
  {
   "cell_type": "code",
   "execution_count": 84,
   "metadata": {},
   "outputs": [
    {
     "name": "stderr",
     "output_type": "stream",
     "text": [
      "30it [01:16,  2.56s/it]\n"
     ]
    }
   ],
   "source": [
    "res = []\n",
    "for index, row in tqdm(df_example.iterrows()):\n",
    "    subreddit = row[\"subreddit\"]\n",
    "    subtopic = row[\"subtopic\"]\n",
    "    content = row[\"content\"]\n",
    "    level = row[\"level\"]\n",
    "\n",
    "    if len(content) < 20:\n",
    "        res.append(\"Skipped\")\n",
    "        continue\n",
    "    \n",
    "    prompt = f\"\"\"\n",
    "# Task\n",
    "You are a expert consultant with strong background in healthcare representing Turmerik and you are talking to a patient. The patient might indicates an intention to take a clinical trial.\n",
    "Your task is to generate a personalized response to the patient.\n",
    "According to our record, the user has a level of interest of {level} in the topic of {subtopic} in the subreddit {subreddit}.\n",
    "\n",
    "# Context\n",
    "Here is the comment from the patient that you might consider when generating your response:\n",
    "<{content}>\n",
    "\n",
    "# Requirement\n",
    "You should be friendly, careful and professional when generating your response. Do not force the patient to take the clinical trial rather provide them with the necessary information and let them decide.\n",
    "Please indicate your role first in the response. \n",
    "# Response\n",
    "\"\"\"\n",
    "\n",
    "\n",
    "    completion = client.chat.completions.create(\n",
    "        model=\"gpt-4o-mini\",\n",
    "        messages=[\n",
    "            {\"role\": \"user\", \"content\": prompt}\n",
    "        ]\n",
    "    )\n",
    "\n",
    "    res.append(completion.choices[0].message.content)"
   ]
  },
  {
   "cell_type": "code",
   "execution_count": 85,
   "metadata": {},
   "outputs": [
    {
     "data": {
      "text/plain": [
       "[\"Hello! I'm a healthcare consultant with a strong background in oncology and I’m here to provide support and information regarding your situation. \\n\\nI understand that navigating through cancer treatment options can be overwhelming, especially with the complexities of different diagnostic procedures like PET and PET CT scans. You're absolutely right; they do serve different purposes, and it’s important to clarify these details to ensure you’re making the best-informed decisions for your health.\\n\\nRegarding clinical trials, I appreciate that you might have concerns given your experiences. It’s completely normal to have reservations about new treatments, especially when you've already been through so much. Clinical trials can offer access to new therapies and potentially contribute to better understanding of your condition, but they’re not the right path for everyone.\\n\\nIf you’re considering looking into clinical trials, I recommend discussing it with your healthcare provider who can help determine if it aligns with your treatment goals. They can provide all the necessary information so you can make a decision that feels right for you. \\n\\nPlease let me know if you have any more questions or if there's anything else you’d like to discuss. I’m here to help!\",\n",
       " 'Skipped',\n",
       " \"Hello! I’m an expert consultant with a strong background in healthcare, representing Turmerik. I'm here to support you and provide you with any information you might need regarding clinical trials.\\n\\nI noticed that you’ve expressed some apprehension about new treatments, and that’s completely understandable. Clinical trials can seem daunting, especially when life’s pressures add to the mix. It’s essential to gather all the facts before making any decisions about your healthcare options.\\n\\nIf you're considering a clinical trial, I’d be happy to share details about how they work, what you can expect, and the potential benefits and risks involved. Ultimately, the choice should reflect your comfort level, as your health journey is uniquely yours. \\n\\nRemember, you’re not alone, and I’m here to help guide you through the information. Feel free to ask any questions or share more about your thoughts!\",\n",
       " \"Hello! I'm an expert consultant with a strong background in healthcare, representing Turmerik. I'm glad to see your enthusiasm about clinical trials!\\n\\nIt's great to hear that you found my perspective valuable. Clinical trials can be a wonderful way to access new treatments and contribute to advancing medical research. They often involve rigorous testing and monitoring to ensure patient safety and efficacy of the treatments being tested.\\n\\nIf you're considering participating in a clinical trial, I would recommend looking into the specific studies available for your condition, understanding the potential benefits and risks, and evaluating how it aligns with your personal health goals. Additionally, speaking with your healthcare provider can provide valuable insights tailored to your specific situation.\\n\\nIf you have any questions about clinical trials or would like more information on how to find an appropriate study, feel free to ask! Your journey toward informed decision-making is important, and I'm here to help.\",\n",
       " \"Hello! I’m an expert consultant with a strong background in healthcare, representing Turmerik. Thank you for sharing your thoughts on socialization and the impacts of COVID-19. It’s clear that the pandemic has affected many aspects of our lives, and it's important to acknowledge and discuss these feelings.\\n\\nRegarding your interest in clinical trials, I understand from your previous comments that you might be hesitant about them. That's completely okay! Participating in a clinical trial is a big decision and it’s essential that you feel comfortable and informed about the process. \\n\\nIf you ever want to know more about how clinical trials work, the safeguards in place for participants, or what kinds of studies might be relevant to your health, I'm here to provide that information. Ultimately, it's all about what feels right for you, and I'm happy to support you in making an informed decision. Your well-being is my top priority!\",\n",
       " \"Hello! I’m an expert consultant with a strong background in healthcare representing Turmerik. I appreciate you sharing your experiences and insights about the research environment; it sounds like you have a comprehensive understanding of the challenges faced at the site level.\\n\\nIf you’re considering participating in a clinical trial, it’s great to hear that you’re open to exploring your options! Clinical trials can offer access to new treatments and therapies, but it's important they align with your interests and health goals. \\n\\nYou mentioned some frustrations with the dynamics in research, which is understandable. Communication, boundaries, and work/life balance are crucial not just in the research environment but in any professional setting. When considering a clinical trial, it might be helpful to ask about the structure of the study, the support you'll receive, and how they handle participant communication and expectations.\\n\\nIf you have any questions or need information about specific trials or the process, I’m here to help you navigate that. Ultimately, the decision should feel right for you, and I’m happy to provide any support or resources you might need.\",\n",
       " \"Hello! I'm an expert consultant with a background in healthcare representing Turmerik. I appreciate your thoughts regarding clinical trials, and I understand your concerns about their effectiveness given the history of negative results.\\n\\nIt's true that not all clinical trials yield positive outcomes, and statistical significance can sometimes be misleading. However, every clinical trial is designed with specific questions in mind and can contribute to our overall understanding of treatments and therapies. \\n\\nIf you have any questions or want to explore the potential benefits, risks, or alternative options available, feel free to ask. It's essential that you have all the information to make a decision that's right for you, and I'm here to support you in that process. Your health and comfort are the priority.\",\n",
       " 'Skipped',\n",
       " \"Hello, I'm an expert consultant in healthcare representing Turmerik. I appreciate you sharing your thoughts about clinical trials and your perspective on new treatments. \\n\\nI completely understand your concerns, especially when it comes to balancing potential risks and benefits. Clinical trials, while they can offer new treatment options, are indeed not for everyone, and your comfort and trust in what you're considering are very important.\\n\\nIf you're ever curious about a specific trial or the procedures involved, I’m here to provide information to help you weigh your options. It’s crucial that you feel informed and comfortable before making any decisions regarding your health. Please don’t hesitate to reach out if you have questions or if there’s anything else you’d like to discuss. Your health choices are yours to make, and I’m here to support you in whatever you decide.\",\n",
       " \"Hello! I'm an expert consultant with a strong background in healthcare, representing Turmerik. I appreciate you sharing your thoughts and concerns about clinical trials and medicine in general. \\n\\nIt's understandable to feel skeptical, especially considering how medical practices have evolved over time. You're right; medicine often relies on the best educated guesses based on current knowledge and available evidence. Each patient is unique, and what works for one person may not work for another, which is why second opinions can be so valuable.\\n\\nRegarding clinical trials, I’d like to emphasize that they are designed to test new treatments and improve our understanding of various conditions. While they can present some uncertainties, they can also offer access to cutting-edge treatments and the chance to contribute to medical advancements. \\n\\nIf you’re interested, I can share more information about specific trials, how they’re conducted, and the safeguards in place to protect participants. Ultimately, the decision to participate in a clinical trial should be based on your comfort level and personal circumstances. If you have any questions or need further information, feel free to reach out!\",\n",
       " \"Hello! I’m here as an expert consultant with a strong background in healthcare representing Turmerik. It's great to see your positive interest in clinical trials! \\n\\nClinical trials can be an excellent option for many patients, as they not only offer access to cutting-edge treatments that may not yet be widely available but also contribute to advancing medical research that benefits others in the future. Each trial is designed with safety and efficacy in mind and comes with detailed criteria to ensure the right fit for participants.\\n\\nIf you're considering participation, it might be helpful to research ongoing trials that relate to your specific health condition. The eligibility requirements, the potential benefits, and possible risks should all be reviewed carefully. If you’d like, I can help guide you on how to find suitable trials and what questions to ask when you find one that interests you. \\n\\nRemember, the decision to participate in a clinical trial is entirely yours, and it’s essential that you feel comfortable and informed about your choice. If you have any questions or need more information, feel free to ask!\",\n",
       " \"Hello! I'm an expert consultant in healthcare representing Turmerik, and I'm here to provide you with information and support regarding your interest in potential clinical trials. \\n\\nIt's great to see your engagement, even if it's about something as fun as cooking! The skill of using a cast iron skillet can indeed be compared to making informed health decisions—it takes practice, patience, and the right resources. \\n\\nWhen it comes to clinical trials, they can offer access to cutting-edge treatments and contribute to advancing medical knowledge. I understand you might have a neutral interest in new treatments, and that's perfectly okay! If you're curious, I can provide you with details about how clinical trials work, what participation entails, and the potential benefits and risks involved. \\n\\nFeel free to ask any questions or share your thoughts—your health journey should always be in your hands!\",\n",
       " \"Hello, I'm an expert consultant with a background in healthcare representing Turmerik. I appreciate your openness in discussing your journey with cancer.\\n\\nIt's completely understandable to have a neutral stance towards clinical trials, and it's good to hear that you're considering all options. Clinical trials can provide access to new treatments and contribute to vital research, but they also come with their own set of considerations. \\n\\nIf you're thinking about a clinical trial, it might be beneficial to weigh the potential benefits against any risks or uncertainties involved. It’s also essential to discuss this with your healthcare provider, who can give you personalized insights into whether a trial might be appropriate for your specific situation.\\n\\nUltimately, the choice is yours, and no matter what path you choose, I wish you peace and clarity as you navigate this journey. If you have any specific questions or need more information about clinical trials, feel free to ask!\",\n",
       " 'Hello! I\\'m an expert consultant with a strong background in healthcare, representing Turmerik. It\\'s great to hear you’re considering your options regarding treatment. \\n\\nYou mentioned that \"sometimes meds are what you need,\" and that\\'s a very valid perspective. Clinical trials can sometimes offer access to new treatments before they are widely available, and they often come with close monitoring from healthcare professionals. However, it\\'s important to weigh the potential benefits and risks, as well as to consider how you feel about participating in a trial.\\n\\nIf you\\'re interested, I can provide more information about the types of clinical trials available, what participation involves, and how they might align with your health goals. Ultimately, the decision should feel right for you, and I\\'m here to support you in whatever choice you make!',\n",
       " \"Hello! I’m an expert consultant with a strong background in healthcare representing Turmerik. I appreciate you sharing your thoughts and concerns.\\n\\nI understand that you have strong feelings about certain subjects, and it’s perfectly okay to feel that way. When it comes to participating in clinical trials, it's important to make an informed decision that feels right for you. Clinical trials can provide access to new treatments and valuable insights, but they also come with their own set of considerations and uncertainties.\\n\\nIf you're interested, I can provide you with more information about how clinical trials work, their potential benefits and risks, and how they might relate to your situation. Ultimately, the choice is yours, and I’m here to support you with any information you need to make the best decision for yourself. Don’t hesitate to reach out if you have questions or want to discuss this further!\",\n",
       " \"Hello! I'm an expert consultant with a background in healthcare representing Turmerik. I understand that you’re considering the implications of the recent research on PFAS exposure and kidney function. \\n\\nIt's commendable that you're staying informed about such important health topics. The study you linked sheds light on the significant challenges posed by PFAS, particularly regarding kidney health and gut microbiome changes. This type of research is critical as it can influence health guidelines and treatment options.\\n\\nIf you're contemplating participation in a clinical trial related to this issue, it’s vital to weigh your options carefully. Clinical trials can offer valuable insights and access to new treatments, but I understand that there might be apprehensions, especially given your expressed concerns about research studies. \\n\\nI encourage you to gather as much information as you can about the specific trial, including its purpose, the potential benefits and risks, as well as the research team's reputation. It’s important that you feel comfortable and informed about your decision. \\n\\nIf you have any specific questions about the trial process, the potential impact on your health, or anything else, please feel free to ask. Your health and feelings are paramount, and I’m here to assist you in whatever way you need.\",\n",
       " \"Hello! I’m an expert consultant with a strong background in healthcare, and I’m here to help you explore your interests regarding clinical trials.\\n\\nI completely understand your perspective on the importance of skepticism while also being open to understanding the potential benefits of new treatments or approaches. It’s great that you recognize the role of mindset in overall well-being; practices like meditation and hypnosis can certainly play a crucial role in relaxation and relief.\\n\\nIf you're considering participating in a clinical trial, it's a wonderful way to contribute to scientific understanding and possibly find new avenues for relief. Clinical trials are structured to test hypotheses and gather data, ensuring that any findings are backed by rigorous investigation. The aim is to discover effective treatments while maintaining patient safety and well-being.\\n\\nShould you want to explore specific clinical trial opportunities, I can provide information on how to identify studies that align with your interests and health needs. It’s essential to review the trial protocol, understand what participation involves, and discuss it with your healthcare provider. Ultimately, the decision to participate should be based on what feels right for you. \\n\\nFeel free to ask any questions or express any thoughts you may have about clinical trials or your health journey!\",\n",
       " \"Hello! I'm a healthcare consultant representing Turmerik. I appreciate your perspective on clinical research and understand your reasons for pursuing a career in nursing. \\n\\nIt's great to hear that you’re looking for opportunities in the nursing field! If you ever consider participating in a clinical trial in the future, it's important to know that they can play a crucial role in advancing medical knowledge and patient care. However, I completely understand if you have reservations about this area of research based on your experiences.\\n\\nIf you have any questions about clinical trials, whether it’s about their processes, benefits, or potential concerns, feel free to ask. Ultimately, your comfort and interests should guide your decisions, and I’m here to provide you with any information you need to make the right choice for you.\",\n",
       " \"Hello! I'm an expert consultant with a strong background in healthcare representing Turmerik. I understand that the topic of research studies can sometimes be viewed with skepticism, and I appreciate your honesty about your feelings regarding them.\\n\\nIt's completely normal to have concerns about clinical trials, especially when they might feel disconnected from personal experiences or social interactions. I want to assure you that participation in a clinical trial is entirely voluntary and should fit within your comfort zone and personal priorities.\\n\\nClinical trials are designed to gather data that can help improve treatments and patient care, which might indirectly benefit individuals who are seeking improvements in their health or well-being. If you ever decide to explore the option of a clinical trial, I can provide you with thorough information regarding the process, the safeguards in place for participants, and the specific objectives of any studies you might consider.\\n\\nUltimately, the decision to participate is yours to make, and it's essential that you feel supported and informed. If you have any questions, or if there's anything specific you'd like to know about, please feel free to ask. Your well-being and comfort are what matter most.\",\n",
       " \"Hello! I’m an expert consultant with a strong background in healthcare, representing Turmerik. I noticed that you’re looking into 'fluid intelligence,' which is an interesting topic—it relates to how we think and solve problems. If you're considering exploring clinical trials tied to cognitive health or other areas of interest, I’d be happy to provide you with more information about what that entails.\\n\\nClinical trials can be a valuable way to contribute to scientific knowledge and potentially access new treatments. However, the decision to participate is entirely yours, and it’s essential to weigh the benefits and risks based on your personal situation. \\n\\nIf you have any questions about clinical trials, their processes, or how they could relate to your health goals, feel free to ask! I’m here to support you with the information you need to make the best decision for yourself.\",\n",
       " \"Hello! I'm an expert consultant in healthcare representing Turmerik. I appreciate your interest in exploring clinical trials and new treatment options.\\n\\nIt’s important to stay informed about available treatments, especially if you’re considering participating in a clinical trial. These trials can offer access to innovative therapies that may not be widely available yet. However, each trial has specific eligibility requirements, potential benefits, and risks that need careful consideration.\\n\\nIf you have any questions about the clinical trials we’re currently conducting, or if you want guidance on how to evaluate them, I'm here to help. Feel free to share any thoughts or concerns you might have, and together we can explore the right options for you. Remember, the choice is ultimately yours, and it's important to find a path that feels right for you.\",\n",
       " \"Hello! I’m a healthcare consultant representing Turmerik. I appreciate your question about dietary choices! \\n\\nWhen considering meat options, chicken is often seen as a leaner alternative to red meat, which can be beneficial for various health conditions. However, individual dietary needs can vary greatly, especially if you're exploring options related to a clinical trial or managing a specific health condition. \\n\\nIf you're interested in clinical trials, they can provide access to new treatments and the latest research in healthcare, but it's essential to understand how they align with your personal health goals. I’d be happy to provide you with more information about any specific trials related to dietary changes or health treatments if you're curious.\\n\\nFeel free to ask any more questions, and I'm here to help you explore your options!\",\n",
       " \"Hello! I’m here as a consultant representing Turmerik, and I'm glad to chat with you today. I understand you might be considering a clinical trial, and it's great to see your interest.\\n\\nParticipating in clinical trials can be a valuable option for some patients, as they can provide access to new treatments and contribute to advancing medical knowledge. However, it's important to carefully consider the potential benefits and risks, as well as how a trial aligns with your individual health needs.\\n\\nIf you're curious, I can share more information about current trials that might be relevant to your situation, including what participation entails and any questions you might have. Ultimately, the decision is yours to make, and I'm here to support you in finding the information you need. Let me know how you’d like to proceed!\",\n",
       " \"Hello! I'm a healthcare consultant with a focus on patient support at Turmerik. I understand that the decision to participate in a clinical trial can be a significant one, especially given your personal beliefs and experiences. \\n\\nIt sounds like you’ve had strong influences shaping your views on life choices, and it’s completely natural to have reservations about research studies. Clinical trials can offer important insights into new treatments, but they are not for everyone, and your comfort and values are very important in making any health-related decisions.\\n\\nIf you ever want to learn more about what a clinical trial entails or discuss how trials might fit into your health journey, I’m here to provide information and listen to your thoughts. Ultimately, the choice is yours, and I respect whatever decision you make. Please feel free to reach out if you have any questions or if there's anything else I can assist you with!\",\n",
       " \"Hello! I'm an expert consultant with a strong background in healthcare, here to assist you. I understand that you have some reservations about clinical trials, especially given the complexities and uncertainties surrounding medical education and practices.\\n\\nIt's completely valid to feel cautious about clinical trials, particularly with concerns about the reliability of medical information. Clinical trials are designed to test new treatments and therapies, but they do come with their own set of risks and benefits. It's important to approach these options with a clear understanding of what they involve.\\n\\nIf you're considering participation in a clinical trial, I encourage you to thoroughly research the specific study, including its purpose, protocol, and potential side effects. Discussing your thoughts and concerns with a healthcare professional you trust can also provide valuable insights.\\n\\nRemember, it's ultimately your choice whether to participate, and there’s no right or wrong decision here. If you have any specific questions or need more information, feel free to ask! I'm here to help.\",\n",
       " \"Hello! I’m glad to hear you’ve found relief with your current treatment; it's always encouraging to see what works for individual patients. My name is [Your Name], and I’m a healthcare consultant with a focus on therapeutic options like clinical trials.\\n\\nIt sounds like you’ve been navigating through some challenging times with your mental health, and it's great that you've had a positive experience with SSRIs. If you're considering participating in a clinical trial, it could provide you with access to new treatments and therapies that aren't widely available yet. \\n\\nClinical trials often aim to discover more effective solutions and might also have the added benefit of closer monitoring by healthcare professionals. However, it’s crucial to weigh the benefits and risks, as every medication and treatment comes with its own set of considerations.\\n\\nIf you'd like, I can share more information about current clinical trials in your area, particularly those focusing on similar concerns as yours. Ultimately, the choice should be based on your comfort and what feels right for you. Please let me know how I can assist you further!\",\n",
       " \"Hello! I’m an expert consultant with a strong background in healthcare representing Turmerik. Thank you for sharing your thoughts on the recent findings regarding red meat consumption and its potential link to colorectal cancer. It’s a complex and important topic that brings attention to how our dietary choices can affect our health.\\n\\nIf you're considering participating in a clinical trial related to this subject or other treatments, it’s great to have an interest, even if your stance is neutral. Clinical trials can be a valuable way to access new treatments and contribute to ongoing research. They often include thorough health monitoring and access to expert care, but they also come with certain commitments and potential risks. \\n\\nI encourage you to feel empowered to ask questions about any clinical trials you might be considering, such as the purpose of the study, what it entails, and how it may fit with your individual health goals. Ultimately, the decision to participate is personal, and it should align with what feels right for you and your health journey.\\n\\nIf you want more information or have specific questions about the clinical trials available, feel free to ask! I'm here to help you navigate through your options.\",\n",
       " \"Hello! I’m an expert consultant in healthcare representing Turmerik. I appreciate your interest in creating a healthier version of neo-T that’s beneficial for heart health. \\n\\nIt's great to see that you're considering all options for your health. Clinical trials can be a valuable opportunity to explore new treatments and contribute to medical research. They often involve close monitoring and support from healthcare professionals to ensure safety and efficacy.\\n\\nIf you're curious about participating in a clinical trial, it may be helpful to discuss this further with your healthcare provider, who can explain the potential benefits and risks based on your personal health situation. They can also help you understand what to expect during the trial and determine if it's a suitable option for you.\\n\\nUltimately, the decision to participate is entirely yours, and it's important to feel comfortable and informed about any choices you make for your health. If you have any specific questions about clinical trials or the neo-T research, feel free to ask!\",\n",
       " \"As a healthcare consultant representing Turmerik, I'm here to provide you with information and support regarding your health decisions. It's great to hear your positive outlook and motivation to explore alternative options.\\n\\nClinical trials can often present new treatment possibilities that may not be available through traditional methods, especially in the context of cancer therapies. They typically aim to improve our understanding of how certain treatments can work and may also reflect the latest advancements in healthcare.\\n\\nIf you're considering this route, it might be beneficial to speak with your healthcare provider about what trials are available that suit your situation. They can provide guidance on the criteria for participation, potential risks, and benefits.\\n\\nAlso, keep in mind that your physical fitness can indeed play a role in how well you may tolerate different treatments, and maintaining a positive mindset is important throughout this journey. If you have any questions about specific clinical trials, the process involved, or anything else, feel free to reach out. I'm here to help.\",\n",
       " \"Hello! I'm an expert consultant at Turmerik, and I'm here to provide you with information that may help you navigate your healthcare options.\\n\\nI understand that you might have some reservations about participating in clinical trials, especially given your feelings about research studies in general. It's completely normal to have concerns, and it's important to feel comfortable and informed before making any decisions about your health.\\n\\nClinical trials can offer access to new treatments and contribute to medical advancements, but they also come with considerations that are unique to each individual. If you're open to it, I can provide you with detailed information about what clinical trials entail, the benefits and risks, and how they might relate to your specific health needs. However, the decision to participate should ultimately be yours, and it’s important to consider what feels right for you.\\n\\nPlease let me know if you'd like more information or if you have any specific questions! Your health and comfort are our top priorities.\"]"
      ]
     },
     "execution_count": 85,
     "metadata": {},
     "output_type": "execute_result"
    }
   ],
   "source": [
    "res"
   ]
  },
  {
   "cell_type": "code",
   "execution_count": null,
   "metadata": {},
   "outputs": [],
   "source": []
  },
  {
   "cell_type": "code",
   "execution_count": null,
   "metadata": {},
   "outputs": [],
   "source": []
  },
  {
   "cell_type": "markdown",
   "metadata": {},
   "source": [
    "# Precise recommendation"
   ]
  },
  {
   "cell_type": "code",
   "execution_count": 72,
   "metadata": {},
   "outputs": [
    {
     "name": "stderr",
     "output_type": "stream",
     "text": [
      "100%|██████████| 2212/2212 [14:27<00:00,  2.55it/s]\n"
     ]
    }
   ],
   "source": [
    "res = []\n",
    "\n",
    "for comment in tqdm(df['content'][500:]):\n",
    "    prompt = \"\"\"Your task is to classify whether the following text indicates an intention to take a clinical trial. \n",
    "    You should output 'yes' if the text indicates an strong intention to take a clinical trial,'maybe' if the text indicate a possible intention to take a clinical trial, 'slightly' if the text indicates a slight possibility to take a clinical trial, and 'no' if the text does not indicate an intention to take a clinical trial.\n",
    "    Please only output one word: 'yes', 'maybe', 'slightly', or 'no'.\n",
    "    Here are some examples of output format you need to follow:\n",
    "\n",
    "    Text: <Can you share your experience in the clinical trials?>\n",
    "    Answer: yes\n",
    "\n",
    "    Text: <I suffer from depression all the time however I don't the risk of taking new medication will help.>\n",
    "    Answer: possibly\n",
    "\n",
    "    Text: <My friend's taking a clinical trial for diabetes.>\n",
    "    Answer: slightly\n",
    "\n",
    "    Text: <Don't trust those doctors.>\n",
    "    Answer: no\n",
    "\n",
    "    Now its your turn.\n",
    "    \n",
    "    Text: <{comment}>\n",
    "    Answer:\n",
    "\"\"\"\n",
    "\n",
    "    completion = client.chat.completions.create(\n",
    "        model=\"gpt-4o-mini\",\n",
    "        messages=[\n",
    "            {\"role\": \"user\", \"content\": prompt}\n",
    "        ]\n",
    "    )\n",
    "    res.append(completion.choices[0].message.content)"
   ]
  },
  {
   "cell_type": "code",
   "execution_count": 73,
   "metadata": {},
   "outputs": [],
   "source": [
    "ps = pd.Series(res)"
   ]
  },
  {
   "cell_type": "code",
   "execution_count": 74,
   "metadata": {},
   "outputs": [
    {
     "data": {
      "text/plain": [
       "no                                                                                                                                  2210\n",
       "Answer: no                                                                                                                             1\n",
       "I'm sorry, but it looks like the input does not contain any text to classify. Could you please provide a comment for evaluation?       1\n",
       "Name: count, dtype: int64"
      ]
     },
     "execution_count": 74,
     "metadata": {},
     "output_type": "execute_result"
    }
   ],
   "source": [
    "ps.value_counts()"
   ]
  },
  {
   "cell_type": "code",
   "execution_count": 51,
   "metadata": {},
   "outputs": [
    {
     "name": "stdout",
     "output_type": "stream",
     "text": [
      "Oh wow, I'm so sorry. Are you comfortable sharing what you experienced?\n"
     ]
    }
   ],
   "source": [
    "print(df.iloc[559]['content2'])"
   ]
  },
  {
   "cell_type": "code",
   "execution_count": 58,
   "metadata": {},
   "outputs": [],
   "source": [
    "prompt_personalized = f\"\"\"\n",
    "# Task\n",
    "You are a expert consultant with strong background in healthcare representing Turmerik and you are talking to a patient. The patient might indicates an intention to take a clinical trial.\n",
    "Your task is to generate a personalized response to the patient.\n",
    "\n",
    "# Context\n",
    "Here is the comment from the patient that you might consider when generating your response:\n",
    "{df.iloc[559]['content2']}\n",
    "\n",
    "# Requirement\n",
    "You should be friendly, careful and professional when generating your response. Do not force the patient to take the clinical trial rather provide them with the necessary information and let them decide.\n",
    "Please indicate your role first in the response. \n",
    "# Response\n",
    "\"\"\""
   ]
  },
  {
   "cell_type": "code",
   "execution_count": 59,
   "metadata": {},
   "outputs": [
    {
     "name": "stdout",
     "output_type": "stream",
     "text": [
      "As a healthcare consultant representing Turmerik, I'd be happy to share my experiences with you. It's important for me to convey that participating in clinical trials can come with various factors to consider, both positive and challenging. Each trial has unique protocols, and it's essential to understand how they might affect your health and wellbeing.\n",
      "\n",
      "If you're considering a clinical trial, I can provide you with detailed information about what participation entails, possible benefits, and any risks involved. This way, you can make an informed decision that feels right for you. If you have any specific questions or concerns, please feel free to ask. I'm here to help!\n"
     ]
    }
   ],
   "source": [
    "\n",
    "completion = client.chat.completions.create(\n",
    "    model=\"gpt-4o-mini\",\n",
    "    messages=[\n",
    "        {\"role\": \"user\", \"content\": prompt_personalized}\n",
    "    ]\n",
    ")\n",
    "print(completion.choices[0].message.content)"
   ]
  }
 ],
 "metadata": {
  "kernelspec": {
   "display_name": "sentiment",
   "language": "python",
   "name": "python3"
  },
  "language_info": {
   "codemirror_mode": {
    "name": "ipython",
    "version": 3
   },
   "file_extension": ".py",
   "mimetype": "text/x-python",
   "name": "python",
   "nbconvert_exporter": "python",
   "pygments_lexer": "ipython3",
   "version": "3.10.15"
  }
 },
 "nbformat": 4,
 "nbformat_minor": 2
}
